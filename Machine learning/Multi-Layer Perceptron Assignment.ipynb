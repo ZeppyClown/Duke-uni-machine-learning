{
 "cells": [
  {
   "cell_type": "markdown",
   "metadata": {},
   "source": [
    "# PyTorch Assignment: Multi-Layer Perceptron (MLP)"
   ]
  },
  {
   "cell_type": "markdown",
   "metadata": {},
   "source": [
    "**[Duke Community Standard](http://integrity.duke.edu/standard.html): By typing your name below, you are certifying that you have adhered to the Duke Community Standard in completing this assignment.**\n",
    "\n",
    "Name: victor"
   ]
  },
  {
   "cell_type": "markdown",
   "metadata": {},
   "source": [
    "### Multi-Layer Perceptrons\n",
    "\n",
    "The simple logistic regression example we went over in the previous notebook is essentially a one-layer neural network, projecting straight from the input to the output predictions.\n",
    "While this can be effective for linearly separable data, occasionally a little more complexity is necessary.\n",
    "Neural networks with additional layers are typically able to learn more complex functions, leading to better performance.\n",
    "These additional layers (called \"hidden\" layers) transform the input into one or more intermediate representations before making a final prediction.\n",
    "\n",
    "In the logistic regression example, the way we performed the transformation was with a fully-connected layer, which consisted of a linear transform (matrix multiply plus a bias).\n",
    "A neural network consisting of multiple successive fully-connected layers is commonly called a Multi-Layer Perceptron (MLP). \n",
    "In the simple MLP below, a 4-d input is projected to a 5-d hidden representation, which is then projected to a single output that is used to make the final prediction.\n",
    "\n",
    "<img src=\"Figures/MLP.png\" width=\"300\"/>\n",
    "\n",
    "For the assignment, you will be building a MLP for MNIST.\n",
    "Mechanically, this is done very similary to our logistic regression example, but instead of going straight to a 10-d vector representing our output predictions, we might first transform to a 500-d vector with a \"hidden\" layer, then to the output of dimension 10.\n",
    "Before you do so, however, there's one more important thing to consider.\n",
    "\n",
    "### Nonlinearities\n",
    "\n",
    "We typically include nonlinearities between layers of a neural network.\n",
    "There's a number of reasons to do so.\n",
    "For one, without anything nonlinear between them, successive linear transforms (fully connected layers) collapse into a single linear transform, which means the model isn't any more expressive than a single layer.\n",
    "On the other hand, intermediate nonlinearities prevent this collapse, allowing neural networks to approximate more complex functions.\n",
    "\n",
    "There are a number of nonlinearities commonly used in neural networks, but one of the most popular is the [rectified linear unit (ReLU)](https://en.wikipedia.org/wiki/Rectifier_(neural_networks)):\n",
    "\n",
    "\\begin{align}\n",
    "x = \\max(0,x)\n",
    "\\end{align}\n",
    "\n",
    "There are a number of ways to implement this in PyTorch.\n",
    "We could do it with elementary PyTorch operations:"
   ]
  },
  {
   "cell_type": "code",
   "execution_count": 1,
   "metadata": {
    "scrolled": true
   },
   "outputs": [
    {
     "name": "stdout",
     "output_type": "stream",
     "text": [
      "x: tensor([[ 0.7349, -0.3018, -0.7785],\n",
      "        [ 0.6758, -0.7769,  0.5417],\n",
      "        [-0.8457,  0.3155, -0.5908],\n",
      "        [-0.1384,  0.3799,  0.8600],\n",
      "        [-0.6664,  0.8676, -0.9163]])\n",
      "x after ReLU with max: tensor([[0.7349, 0.0000, 0.0000],\n",
      "        [0.6758, 0.0000, 0.5417],\n",
      "        [0.0000, 0.3155, 0.0000],\n",
      "        [0.0000, 0.3799, 0.8600],\n",
      "        [0.0000, 0.8676, 0.0000]])\n"
     ]
    }
   ],
   "source": [
    "import torch\n",
    "\n",
    "x = torch.rand(5, 3)*2 - 1\n",
    "x_relu_max = torch.max(torch.zeros_like(x),x)\n",
    "\n",
    "print(\"x: {}\".format(x))\n",
    "print(\"x after ReLU with max: {}\".format(x_relu_max))"
   ]
  },
  {
   "cell_type": "markdown",
   "metadata": {},
   "source": [
    "Of course, PyTorch also has the ReLU implemented, for example in `torch.nn.functional`:"
   ]
  },
  {
   "cell_type": "code",
   "execution_count": 2,
   "metadata": {},
   "outputs": [
    {
     "name": "stdout",
     "output_type": "stream",
     "text": [
      "x after ReLU with nn.functional: tensor([[0.7349, 0.0000, 0.0000],\n",
      "        [0.6758, 0.0000, 0.5417],\n",
      "        [0.0000, 0.3155, 0.0000],\n",
      "        [0.0000, 0.3799, 0.8600],\n",
      "        [0.0000, 0.8676, 0.0000]])\n"
     ]
    }
   ],
   "source": [
    "import torch.nn.functional as F\n",
    "\n",
    "x_relu_F = F.relu(x)\n",
    "\n",
    "print(\"x after ReLU with nn.functional: {}\".format(x_relu_F))"
   ]
  },
  {
   "cell_type": "markdown",
   "metadata": {},
   "source": [
    "Same result."
   ]
  },
  {
   "cell_type": "markdown",
   "metadata": {},
   "source": [
    "### Assignment\n",
    "\n",
    "Build a 2-layer MLP for MNIST digit classfication. Feel free to play around with the model architecture and see how the training time/performance changes, but to begin, try the following:\n",
    "\n",
    "Image (784 dimensions) ->  \n",
    "fully connected layer (500 hidden units) -> nonlinearity (ReLU) ->  \n",
    "fully connected (10 hidden units) -> softmax\n",
    "\n",
    "Try building the model both with basic PyTorch operations, and then again with more object-oriented higher-level APIs. \n",
    "You should get similar results!\n",
    "\n",
    "\n",
    "*Some hints*:\n",
    "- Even as we add additional layers, we still only require a single optimizer to learn the parameters.\n",
    "Just make sure to pass all parameters to it!\n",
    "- As you'll calculate in the Short Answer, this MLP model has many more parameters than the logisitic regression example, which makes it more challenging to learn.\n",
    "To get the best performance, you may want to play with the learning rate and increase the number of training epochs.\n",
    "- Be careful using `torch.nn.CrossEntropyLoss()`. \n",
    "If you look at the [PyTorch documentation](https://pytorch.org/docs/stable/nn.html#crossentropyloss): you'll see that `torch.nn.CrossEntropyLoss()` combines the softmax operation with the cross-entropy.\n",
    "This means you need to pass in the logits (predictions pre-softmax) to this loss.\n",
    "Computing the softmax separately and feeding the result into `torch.nn.CrossEntropyLoss()` will significantly degrade your model's performance!"
   ]
  },
  {
   "cell_type": "code",
   "execution_count": 4,
   "metadata": {},
   "outputs": [
    {
     "data": {
      "application/vnd.jupyter.widget-view+json": {
       "model_id": "b776d6a2ac9848ae996a547f11663a07",
       "version_major": 2,
       "version_minor": 0
      },
      "text/plain": [
       "  0%|          | 0/6000 [00:00<?, ?it/s]"
      ]
     },
     "metadata": {},
     "output_type": "display_data"
    },
    {
     "data": {
      "application/vnd.jupyter.widget-view+json": {
       "model_id": "09cc6c63589941f7a719b91bfc032982",
       "version_major": 2,
       "version_minor": 0
      },
      "text/plain": [
       "  0%|          | 0/1000 [00:00<?, ?it/s]"
      ]
     },
     "metadata": {},
     "output_type": "display_data"
    },
    {
     "name": "stdout",
     "output_type": "stream",
     "text": [
      "Test accuracy: 0.97079998254776\n"
     ]
    }
   ],
   "source": [
    "### YOUR CODE HERE\n",
    "\n",
    "import numpy as np\n",
    "import torch\n",
    "import torch.nn as nn\n",
    "import torch.nn.functional as F\n",
    "from torchvision import datasets, transforms\n",
    "from tqdm.notebook import tqdm\n",
    "\n",
    "# Load the data\n",
    "mnist_train = datasets.MNIST(root=\"./datasets\", train=True, transform=transforms.ToTensor(), download=True)\n",
    "mnist_test = datasets.MNIST(root=\"./datasets\", train=False, transform=transforms.ToTensor(), download=True)\n",
    "train_loader = torch.utils.data.DataLoader(mnist_train, batch_size=10, shuffle=True)\n",
    "test_loader = torch.utils.data.DataLoader(mnist_test, batch_size=10, shuffle=False)\n",
    "\n",
    "# Define the Model\n",
    "class MNIST_MLP(nn.Module):\n",
    "    def __init__(self):\n",
    "        super().__init__()\n",
    "        self.lin1 = nn.Linear(784, 500)  # Input layer (784) to hidden layer (500 units)\n",
    "        self.lin2 = nn.Linear(500, 10)   # Hidden layer (500 units) to output layer (10 units)\n",
    "    \n",
    "    def forward(self, X):\n",
    "        Z = F.relu(self.lin1(X))  # Apply ReLU activation after the first linear layer\n",
    "        Y = self.lin2(Z)          # No activation here, just raw logits\n",
    "        return Y\n",
    "\n",
    "# Initialize the model\n",
    "model = MNIST_MLP()\n",
    "\n",
    "# Loss and Optimizer\n",
    "criterion = nn.CrossEntropyLoss()\n",
    "optimizer = torch.optim.SGD(model.parameters(), lr=0.1)\n",
    "\n",
    "# Iterate through train set minibatchs \n",
    "for images, labels in tqdm(train_loader):\n",
    "    # Zero out the gradients\n",
    "    optimizer.zero_grad()\n",
    "    \n",
    "    # Forward pass\n",
    "    x = images.view(-1, 28*28)\n",
    "    y = model(x)\n",
    "    loss = criterion(y, labels)\n",
    "    # Backward pass\n",
    "    loss.backward()\n",
    "    optimizer.step()\n",
    "\n",
    "## Testing\n",
    "correct = 0\n",
    "total = len(mnist_test)\n",
    "\n",
    "with torch.no_grad():\n",
    "    # Iterate through test set minibatchs \n",
    "    for images, labels in tqdm(test_loader):\n",
    "        # Forward pass\n",
    "        x = images.view(-1, 28*28)\n",
    "        y = model(x)\n",
    "        \n",
    "        predictions = torch.argmax(y, dim=1)\n",
    "        correct += torch.sum((predictions == labels).float())\n",
    "    \n",
    "print('Test accuracy: {}'.format(correct/total))\n",
    "    \n",
    "# Make sure to print out your accuracy on the test set at the end."
   ]
  },
  {
   "cell_type": "markdown",
   "metadata": {},
   "source": [
    "### Short answer\n",
    "How many trainable parameters does your model have? \n",
    "How does this compare to the logisitic regression example?"
   ]
  },
  {
   "cell_type": "markdown",
   "metadata": {},
   "source": [
    "`[Your answer here]`"
   ]
  },
  {
   "cell_type": "code",
   "execution_count": null,
   "metadata": {},
   "outputs": [],
   "source": [
    "To calculate the trainable parameters in your 2-layer MLP model, let's break it down layer by layer.\n",
    "\n",
    "1. First Layer: Fully Connected Layer (784 -> 500)\n",
    "This layer connects the 784 input features (28x28 image flattened) to 500 hidden units. For a fully connected (linear) layer:\n",
    "\n",
    "Parameters\n",
    "=\n",
    "(\n",
    "number of inputs\n",
    "×\n",
    "number of outputs\n",
    ")\n",
    "+\n",
    "number of biases\n",
    "Parameters=(number of inputs×number of outputs)+number of biases\n",
    "Here:\n",
    "\n",
    "Number of inputs: \n",
    "784\n",
    "784\n",
    "Number of outputs: \n",
    "500\n",
    "500\n",
    "Biases: \n",
    "500\n",
    "500 (1 bias per output unit)\n",
    "Parameters in the first layer\n",
    "=\n",
    "(\n",
    "784\n",
    "×\n",
    "500\n",
    ")\n",
    "+\n",
    "500\n",
    "=\n",
    "392\n",
    ",\n",
    "500\n",
    "Parameters in the first layer=(784×500)+500=392,500\n",
    "2. Second Layer: Fully Connected Layer (500 -> 10)\n",
    "This layer connects the 500 hidden units to the 10 output classes. Again:\n",
    "\n",
    "Parameters\n",
    "=\n",
    "(\n",
    "number of inputs\n",
    "×\n",
    "number of outputs\n",
    ")\n",
    "+\n",
    "number of biases\n",
    "Parameters=(number of inputs×number of outputs)+number of biases\n",
    "Here:\n",
    "\n",
    "Number of inputs: \n",
    "500\n",
    "500\n",
    "Number of outputs: \n",
    "10\n",
    "10\n",
    "Biases: \n",
    "10\n",
    "10\n",
    "Parameters in the second layer\n",
    "=\n",
    "(\n",
    "500\n",
    "×\n",
    "10\n",
    ")\n",
    "+\n",
    "10\n",
    "=\n",
    "5\n",
    ",\n",
    "010\n",
    "Parameters in the second layer=(500×10)+10=5,010\n",
    "Total Trainable Parameters:\n",
    "Total Parameters\n",
    "=\n",
    "First layer parameters\n",
    "+\n",
    "Second layer parameters\n",
    "Total Parameters=First layer parameters+Second layer parameters\n",
    "Total Parameters\n",
    "=\n",
    "392\n",
    ",\n",
    "500\n",
    "+\n",
    "5\n",
    ",\n",
    "010\n",
    "=\n",
    "397\n",
    ",\n",
    "510\n",
    "Total Parameters=392,500+5,010=397,510\n",
    "Comparison to Logistic Regression\n",
    "In the logistic regression example, the model is a single-layer network with no hidden layers. It connects the 784 input features directly to the 10 output classes.\n",
    "\n",
    "For logistic regression:\n",
    "\n",
    "Parameters\n",
    "=\n",
    "(\n",
    "number of inputs\n",
    "×\n",
    "number of outputs\n",
    ")\n",
    "+\n",
    "number of biases\n",
    "Parameters=(number of inputs×number of outputs)+number of biases\n",
    "Parameters\n",
    "=\n",
    "(\n",
    "784\n",
    "×\n",
    "10\n",
    ")\n",
    "+\n",
    "10\n",
    "=\n",
    "7\n",
    ",\n",
    "850\n",
    "Parameters=(784×10)+10=7,850\n",
    "Comparison Summary\n",
    "Model\tNumber of Trainable Parameters\n",
    "Logistic Regression\t7,850\n",
    "2-Layer MLP\t397,510\n",
    "Key Observations:\n",
    "The 2-layer MLP has significantly more trainable parameters because of the additional hidden layer with 500 units.\n",
    "This increase in parameters allows the MLP to model more complex patterns in the data, but it also makes the model more challenging to train as it requires more data, computational resources, and proper regularization to prevent overfitting.\n",
    "Logistic regression, with far fewer parameters, is simpler and faster to train but less expressive for complex datasets like MNIST.\n",
    "Would you like further clarification or assistance with additional calculations?"
   ]
  }
 ],
 "metadata": {
  "kernelspec": {
   "display_name": "Python 3",
   "language": "python",
   "name": "python3"
  },
  "language_info": {
   "codemirror_mode": {
    "name": "ipython",
    "version": 3
   },
   "file_extension": ".py",
   "mimetype": "text/x-python",
   "name": "python",
   "nbconvert_exporter": "python",
   "pygments_lexer": "ipython3",
   "version": "3.12.1"
  }
 },
 "nbformat": 4,
 "nbformat_minor": 2
}
